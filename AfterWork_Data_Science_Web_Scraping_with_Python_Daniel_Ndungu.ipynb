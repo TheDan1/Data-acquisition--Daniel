{
  "nbformat": 4,
  "nbformat_minor": 0,
  "metadata": {
    "colab": {
      "name": "AfterWork_Data_Science_Web_Scraping_with_Python_Daniel_Ndungu.ipynb",
      "provenance": [],
      "collapsed_sections": [],
      "toc_visible": true
    },
    "kernelspec": {
      "name": "python3",
      "display_name": "Python 3"
    }
  },
  "cells": [
    {
      "cell_type": "markdown",
      "metadata": {
        "id": "7i5A-UY4Yruf"
      },
      "source": [
        "<font color='#2F4F4F'>To use this notebook on Colaboratory, you will need to make a copy of it. Go to File > Save a Copy in Drive. You can then use the new copy that will appear in the new tab.</font>\n"
      ]
    },
    {
      "cell_type": "markdown",
      "metadata": {
        "id": "0rOdcI2Nzhky"
      },
      "source": [
        "# <font color='#2F4F4F'>AfterWork Data Science: Web Scraping with Python</font>"
      ]
    },
    {
      "cell_type": "markdown",
      "metadata": {
        "id": "Tcso2rJCNAGq"
      },
      "source": [
        "## <font color='#2F4F4F'>Prerequisites</font>"
      ]
    },
    {
      "cell_type": "code",
      "metadata": {
        "id": "QSHljMZTNCRI"
      },
      "source": [
        "# We first import the required libraries\n",
        "# ---\n",
        "#\n",
        "import pandas as pd             # library for data manupation\n",
        "import requests                 # library for fetching a web page \n",
        "from bs4 import BeautifulSoup   # library for extrating contents from a webpage "
      ],
      "execution_count": 3,
      "outputs": []
    },
    {
      "cell_type": "markdown",
      "metadata": {
        "id": "CRmt1rRHgZRG"
      },
      "source": [
        "## <font color='#2F4F4F'>Step 1: Obtaining our Data</font>"
      ]
    },
    {
      "cell_type": "code",
      "metadata": {
        "id": "cM5TKD-P1h7Z",
        "colab": {
          "base_uri": "https://localhost:8080/"
        },
        "outputId": "c94ea211-81e8-4b97-beb9-e37711d98770"
      },
      "source": [
        "# PigiaMe: https://www.pigiame.co.ke/it-software-jobs\n",
        "# -Ans\n",
        "pigia_me = requests.get('https://www.pigiame.co.ke/it-software-jobs')\n",
        "pigia_me"
      ],
      "execution_count": 4,
      "outputs": [
        {
          "output_type": "execute_result",
          "data": {
            "text/plain": [
              "<Response [200]>"
            ]
          },
          "metadata": {},
          "execution_count": 4
        }
      ]
    },
    {
      "cell_type": "code",
      "metadata": {
        "id": "OfUvfxrD1nQC",
        "colab": {
          "base_uri": "https://localhost:8080/"
        },
        "outputId": "dce32fff-249e-47f8-837d-a9d822bfef45"
      },
      "source": [
        "# MyJobMag: https://www.myjobmag.co.ke/jobs-by-field/information-technology\n",
        "# -Ans\n",
        "MyJobMag = requests.get('https://www.myjobmag.co.ke/jobs-by-field/information-technology')\n",
        "MyJobMag"
      ],
      "execution_count": 5,
      "outputs": [
        {
          "output_type": "execute_result",
          "data": {
            "text/plain": [
              "<Response [200]>"
            ]
          },
          "metadata": {},
          "execution_count": 5
        }
      ]
    },
    {
      "cell_type": "code",
      "metadata": {
        "id": "psWrYhRUQDJC",
        "colab": {
          "base_uri": "https://localhost:8080/"
        },
        "outputId": "47c9a1f1-d5ad-4788-a3c9-010a1ccc7f1d"
      },
      "source": [
        "# KenyanJob: https://www.kenyajob.com/job-vacancies-search-kenya?f%5B0%5D=im_field_offre_secteur%3A133\n",
        "# -Ans\n",
        "KenyanJob= requests.get('https://www.kenyajob.com/job-vacancies-search-kenya?f%5B0%5D=im_field_offre_secteur%3A133')\n",
        "KenyanJob\n",
        " "
      ],
      "execution_count": 6,
      "outputs": [
        {
          "output_type": "execute_result",
          "data": {
            "text/plain": [
              "<Response [200]>"
            ]
          },
          "metadata": {},
          "execution_count": 6
        }
      ]
    },
    {
      "cell_type": "markdown",
      "metadata": {
        "id": "h7iRb8U8hHNw"
      },
      "source": [
        "## <font color='#2F4F4F'>Step 2: Parsing</font>"
      ]
    },
    {
      "cell_type": "code",
      "metadata": {
        "id": "AXWSK1kD2oeN"
      },
      "source": [
        "# Parsing our document: pigia_me\n",
        "# ---Ans\n",
        "soup = BeautifulSoup(pigia_me.text, \"html.parser\")\n",
        "#printing out the HTML content of the page formatted nicely,using the prettify() method:\n",
        "print(soup.prettify())\n",
        " "
      ],
      "execution_count": null,
      "outputs": []
    },
    {
      "cell_type": "code",
      "metadata": {
        "id": "lrH9mgR82pzg"
      },
      "source": [
        "# Parsing our document: my_job_mag\n",
        "# ---Ans\n",
        "soup=BeautifulSoup(MyJobMag.text, \"html.parser\")\n",
        "\n",
        "#printing out the HTML content of the page formatted nicely,using the prettify() method:\n",
        "print(soup.prettify())\n",
        " \n",
        " "
      ],
      "execution_count": null,
      "outputs": []
    },
    {
      "cell_type": "code",
      "metadata": {
        "id": "O0x-Wz03QP5O"
      },
      "source": [
        "# Parsing our document: kenyan_job\n",
        "# ---Ans\n",
        "soup=BeautifulSoup(KenyanJob.text, \"html.parser\")\n",
        "\n",
        "#printing out the HTML content of the page formatted nicely,using the prettify() method:\n",
        "print(soup.prettify())\n",
        " "
      ],
      "execution_count": null,
      "outputs": []
    },
    {
      "cell_type": "markdown",
      "metadata": {
        "id": "_OxuOAIXhPl5"
      },
      "source": [
        "## <font color='#2F4F4F'>Step 3: Extracting Required Elements</font>"
      ]
    },
    {
      "cell_type": "code",
      "metadata": {
        "id": "e2p147_LICKn",
        "colab": {
          "base_uri": "https://localhost:8080/"
        },
        "outputId": "e9606718-b155-4f7d-e2e8-f7d7917c5e97"
      },
      "source": [
        "# 1. Extracting job titles and links: pigia me\n",
        "# ---Ans\n",
        "results = soup.find_all('title')\n",
        "results\n",
        "\n",
        " "
      ],
      "execution_count": 9,
      "outputs": [
        {
          "output_type": "execute_result",
          "data": {
            "text/plain": [
              "[<title>IT, software engineering, Internet Jobs Kenya | Kenyajob.com</title>]"
            ]
          },
          "metadata": {},
          "execution_count": 9
        }
      ]
    },
    {
      "cell_type": "code",
      "source": [
        "# 1.Extracting job titles and links: pigia me\n",
        "# ---Ans\n",
        "results = soup.find_all('link')\n",
        "results"
      ],
      "metadata": {
        "id": "gMnN3Vi0XL7a",
        "colab": {
          "base_uri": "https://localhost:8080/"
        },
        "outputId": "95593d48-a1a2-4d3e-d333-82dc18f3b10e"
      },
      "execution_count": 13,
      "outputs": [
        {
          "output_type": "execute_result",
          "data": {
            "text/plain": [
              "[<link href=\"https://www.kenyajob.com/sites/all/themes/africawork2/favicon.ico\" rel=\"shortcut icon\" type=\"image/vnd.microsoft.icon\"/>,\n",
              " <link href=\"https://www.kenyajob.com/job-vacancies-search-kenya\" rel=\"canonical\"/>,\n",
              " <link href=\"https://www.kenyajob.com/job-vacancies-search-kenya\" rel=\"shortlink\"/>,\n",
              " <link href=\"https://www.kenyajob.com/sites/kenyajob.com/files/css/css_xE-rWrJf-fncB6ztZfd2huxqgxu4WO-qwma6Xer30m4.css\" media=\"all\" rel=\"stylesheet\" type=\"text/css\"/>,\n",
              " <link href=\"https://www.kenyajob.com/sites/kenyajob.com/files/css/css_RrIaXHIDgOsC727EgAbl6WymmGuUu2LFXADcokToV8c.css\" media=\"all\" rel=\"stylesheet\" type=\"text/css\"/>,\n",
              " <link href=\"https://www.kenyajob.com/sites/kenyajob.com/files/css/css_dOLx90xSawVQ55JRogAU9OAJSvDOzhtz3M-X_663k-A.css\" media=\"all\" rel=\"stylesheet\" type=\"text/css\"/>,\n",
              " <link href=\"https://www.kenyajob.com/sites/kenyajob.com/files/css/css_xCHTXIa0kG9jTgTFq8W5m7HZCsdzUHj869H-x7voKk4.css\" media=\"all\" rel=\"stylesheet\" type=\"text/css\"/>,\n",
              " <link href=\"https://www.kenyajob.com/sites/kenyajob.com/files/css/css_YZZj-doqkRBsfnQYDw29hFOnj1GhKjgdyLZlJMuDMqI.css\" media=\"all\" rel=\"stylesheet\" type=\"text/css\"/>]"
            ]
          },
          "metadata": {},
          "execution_count": 13
        }
      ]
    },
    {
      "cell_type": "code",
      "metadata": {
        "id": "NNLbrng_3QfA",
        "colab": {
          "base_uri": "https://localhost:8080/"
        },
        "outputId": "a05abf54-17c1-455a-dc32-0a1f8d107bcd"
      },
      "source": [
        "# 2. Extracting job titles: my_job_mag\n",
        "# ---Ans\n",
        "result =soup.find_all('title')\n",
        "result\n",
        " "
      ],
      "execution_count": 14,
      "outputs": [
        {
          "output_type": "execute_result",
          "data": {
            "text/plain": [
              "[<title>IT, software engineering, Internet Jobs Kenya | Kenyajob.com</title>]"
            ]
          },
          "metadata": {},
          "execution_count": 14
        }
      ]
    },
    {
      "cell_type": "code",
      "metadata": {
        "id": "I0fQKn63QV0R"
      },
      "source": [
        "# 3. Extracting job titles: kenya_job\n",
        "# ---\n",
        "#\n",
        "YOUR CODE GOES HERE"
      ],
      "execution_count": null,
      "outputs": []
    },
    {
      "cell_type": "markdown",
      "metadata": {
        "id": "7ePXABAihaKn"
      },
      "source": [
        "## <font color='#2F4F4F'>Step 4: Saving our Data</font>"
      ]
    },
    {
      "cell_type": "code",
      "metadata": {
        "id": "fsG9pQXk5f8y"
      },
      "source": [
        "# Saving the scraped contents in a dataframe and preview our data\n",
        "# ---\n",
        "#\n",
        "YOUR CODE GOES HERE"
      ],
      "execution_count": null,
      "outputs": []
    }
  ]
}