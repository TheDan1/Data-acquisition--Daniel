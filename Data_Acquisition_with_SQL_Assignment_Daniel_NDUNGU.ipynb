{
  "nbformat": 4,
  "nbformat_minor": 0,
  "metadata": {
    "colab": {
      "name": "Data_Acquisition_with_SQL-Assignment-Daniel NDUNGU.ipynb",
      "provenance": [],
      "collapsed_sections": []
    },
    "kernelspec": {
      "name": "python3",
      "display_name": "Python 3"
    },
    "language_info": {
      "name": "python"
    }
  },
  "cells": [
    {
      "cell_type": "markdown",
      "source": [
        ""
      ],
      "metadata": {
        "id": "WEGry4R-P8MI"
      }
    },
    {
      "cell_type": "code",
      "execution_count": 1,
      "metadata": {
        "id": "OCzquiu1Paen"
      },
      "outputs": [],
      "source": [
        "# Loading the SQL extension\n",
        "# ---\n",
        "%load_ext sql"
      ]
    },
    {
      "cell_type": "code",
      "source": [
        "# Connecting to the in-memory SQLite database Google Colab\n",
        "# ---\n",
        "%sql sqlite://"
      ],
      "metadata": {
        "colab": {
          "base_uri": "https://localhost:8080/",
          "height": 35
        },
        "id": "QtSC9Y_nQers",
        "outputId": "19d3f22a-2f9d-421e-f102-94f63ec2d191"
      },
      "execution_count": 2,
      "outputs": [
        {
          "output_type": "execute_result",
          "data": {
            "application/vnd.google.colaboratory.intrinsic+json": {
              "type": "string"
            },
            "text/plain": [
              "'Connected: @None'"
            ]
          },
          "metadata": {},
          "execution_count": 2
        }
      ]
    },
    {
      "cell_type": "code",
      "source": [
        "# Loading the pandas library\n",
        "# ---\n",
        "#\n",
        "import pandas as pd"
      ],
      "metadata": {
        "id": "4y_HwYBAQleZ"
      },
      "execution_count": 3,
      "outputs": []
    },
    {
      "cell_type": "code",
      "source": [
        "T_accidents = pd.read_csv('traffic_accidents.csv') \n",
        "\n",
        "%sql DROP TABLE if EXISTS T_accidents;\n",
        "\n",
        "%sql PERSIST T_accidents;\n",
        "\n",
        "%sql SELECT * FROM T_accidents LIMIT 5;\n",
        "\n"
      ],
      "metadata": {
        "id": "k9xy9BERV4sO"
      },
      "execution_count": null,
      "outputs": []
    },
    {
      "cell_type": "markdown",
      "source": [
        "Questions "
      ],
      "metadata": {
        "id": "uZVG8Lxyj9LK"
      }
    },
    {
      "cell_type": "code",
      "source": [
        "#1. Display a list of 5 makes that had the highest number of crashes?\n",
        "#Ans:\n",
        "%%sql\n",
        "SELECT MAKE, SUM(MODEL) FROM T_accidents\n",
        "GROUP BY MAKE\n",
        "ORDER BY SUM(MODEL) DESC\n",
        "LIMIT 5 \n",
        "\n"
      ],
      "metadata": {
        "id": "CFs78WiYhLQm"
      },
      "execution_count": null,
      "outputs": []
    },
    {
      "cell_type": "code",
      "source": [
        "#2.Most personal vehicles involved in crashes were traveling towards which direction?\n",
        "#Ans:\n",
        "%%sql\n",
        "SELECT VEHICLE_USE, TRAVEL_DIRECTION, COUNT(TRAVEL_DIRECTION) FROM T_accidents\n",
        "WHERE VEHICLE_USE = 'PERSONAL'\n",
        "GROUP BY TRAVEL_DIRECTION\n",
        "ORDER BY COUNT(TRAVEL_DIRECTION) DESC"
      ],
      "metadata": {
        "colab": {
          "base_uri": "https://localhost:8080/",
          "height": 263
        },
        "id": "wpcaOZdVQUBY",
        "outputId": "51643e47-a894-4c5d-c2e4-3dcd5d93ba4b"
      },
      "execution_count": 7,
      "outputs": [
        {
          "output_type": "stream",
          "name": "stdout",
          "text": [
            " * sqlite://\n",
            "Done.\n"
          ]
        },
        {
          "output_type": "execute_result",
          "data": {
            "text/html": [
              "<table>\n",
              "    <thead>\n",
              "        <tr>\n",
              "            <th>VEHICLE_USE</th>\n",
              "            <th>TRAVEL_DIRECTION</th>\n",
              "            <th>COUNT(TRAVEL_DIRECTION)</th>\n",
              "        </tr>\n",
              "    </thead>\n",
              "    <tbody>\n",
              "        <tr>\n",
              "            <td>PERSONAL</td>\n",
              "            <td>N</td>\n",
              "            <td>1099</td>\n",
              "        </tr>\n",
              "        <tr>\n",
              "            <td>PERSONAL</td>\n",
              "            <td>S</td>\n",
              "            <td>1076</td>\n",
              "        </tr>\n",
              "        <tr>\n",
              "            <td>PERSONAL</td>\n",
              "            <td>W</td>\n",
              "            <td>973</td>\n",
              "        </tr>\n",
              "        <tr>\n",
              "            <td>PERSONAL</td>\n",
              "            <td>E</td>\n",
              "            <td>964</td>\n",
              "        </tr>\n",
              "        <tr>\n",
              "            <td>PERSONAL</td>\n",
              "            <td>UNKNOWN</td>\n",
              "            <td>175</td>\n",
              "        </tr>\n",
              "        <tr>\n",
              "            <td>PERSONAL</td>\n",
              "            <td>SE</td>\n",
              "            <td>73</td>\n",
              "        </tr>\n",
              "        <tr>\n",
              "            <td>PERSONAL</td>\n",
              "            <td>NW</td>\n",
              "            <td>68</td>\n",
              "        </tr>\n",
              "        <tr>\n",
              "            <td>PERSONAL</td>\n",
              "            <td>SW</td>\n",
              "            <td>42</td>\n",
              "        </tr>\n",
              "        <tr>\n",
              "            <td>PERSONAL</td>\n",
              "            <td>NE</td>\n",
              "            <td>36</td>\n",
              "        </tr>\n",
              "    </tbody>\n",
              "</table>"
            ],
            "text/plain": [
              "[('PERSONAL', 'N', 1099),\n",
              " ('PERSONAL', 'S', 1076),\n",
              " ('PERSONAL', 'W', 973),\n",
              " ('PERSONAL', 'E', 964),\n",
              " ('PERSONAL', 'UNKNOWN', 175),\n",
              " ('PERSONAL', 'SE', 73),\n",
              " ('PERSONAL', 'NW', 68),\n",
              " ('PERSONAL', 'SW', 42),\n",
              " ('PERSONAL', 'NE', 36)]"
            ]
          },
          "metadata": {},
          "execution_count": 7
        }
      ]
    },
    {
      "cell_type": "code",
      "source": [
        "#3.How many passengers were involved in personal cars were in accidents?\n",
        "#Ans:\n",
        "%%sql\n",
        "SELECT VEHICLE_USE, SUM(NUM_PASSENGERS) FROM T_accidents\n",
        "WHERE VEHICLE_USE = 'PERSONAL'\n",
        "\n"
      ],
      "metadata": {
        "colab": {
          "base_uri": "https://localhost:8080/",
          "height": 97
        },
        "id": "2s_QgIknOT_h",
        "outputId": "59a7b177-0749-457e-c160-ac3a704053d0"
      },
      "execution_count": null,
      "outputs": [
        {
          "output_type": "stream",
          "name": "stdout",
          "text": [
            " * sqlite://\n",
            "Done.\n"
          ]
        },
        {
          "output_type": "execute_result",
          "data": {
            "text/html": [
              "<table>\n",
              "    <thead>\n",
              "        <tr>\n",
              "            <th>VEHICLE_USE</th>\n",
              "            <th>SUM(NUM_PASSENGERS\t)</th>\n",
              "        </tr>\n",
              "    </thead>\n",
              "    <tbody>\n",
              "        <tr>\n",
              "            <td>PERSONAL</td>\n",
              "            <td>1146.0</td>\n",
              "        </tr>\n",
              "    </tbody>\n",
              "</table>"
            ],
            "text/plain": [
              "[('PERSONAL', 1146.0)]"
            ]
          },
          "metadata": {},
          "execution_count": 72
        }
      ]
    },
    {
      "cell_type": "code",
      "source": [
        "#4. How many passengers were involved in accidents while traveling in personal Sport Utility vehicles?\n",
        "#Ans:\n",
        "%%sql\n",
        "SELECT VEHICLE_TYPE, SUM(NUM_PASSENGERS\t) FROM T_accidents\n",
        "WHERE VEHICLE_TYPE = 'SPORT UTILITY VEHICLE (SUV)'"
      ],
      "metadata": {
        "colab": {
          "base_uri": "https://localhost:8080/",
          "height": 96
        },
        "id": "ayVFEbSXP2pb",
        "outputId": "1e347147-a2ab-4b15-e38a-ceb82b948d6c"
      },
      "execution_count": 8,
      "outputs": [
        {
          "output_type": "stream",
          "name": "stdout",
          "text": [
            " * sqlite://\n",
            "Done.\n"
          ]
        },
        {
          "output_type": "execute_result",
          "data": {
            "text/html": [
              "<table>\n",
              "    <thead>\n",
              "        <tr>\n",
              "            <th>VEHICLE_TYPE</th>\n",
              "            <th>SUM(NUM_PASSENGERS\t)</th>\n",
              "        </tr>\n",
              "    </thead>\n",
              "    <tbody>\n",
              "        <tr>\n",
              "            <td>SPORT UTILITY VEHICLE (SUV)</td>\n",
              "            <td>256.0</td>\n",
              "        </tr>\n",
              "    </tbody>\n",
              "</table>"
            ],
            "text/plain": [
              "[('SPORT UTILITY VEHICLE (SUV)', 256.0)]"
            ]
          },
          "metadata": {},
          "execution_count": 8
        }
      ]
    },
    {
      "cell_type": "code",
      "source": [
        "#5. Compute the total number of Mercedez-Benz vehicles involved in accidents while being parked\n",
        "#Ans:\n",
        "%%sql\n",
        "SELECT MAKE, MANEUVER, SUM(MANEUVER) FROM T_accidents\n",
        "WHERE MAKE = 'MERCEDES-BENZ' AND MANEUVER = 'PARKED' OR 'LEAVING TRAFFIC LANE TO PARK'"
      ],
      "metadata": {
        "id": "kWDE0B_cQcEJ"
      },
      "execution_count": null,
      "outputs": []
    },
    {
      "cell_type": "code",
      "source": [
        "#6. Compute the total occupant count per vehicle count.\n",
        "#Ans:\n",
        "%%sql\n",
        "SELECT MAKE, SUM(OCCUPANT_CNT) FROM T_accidents\n",
        "GROUP BY MAKE\n",
        "ORDER BY SUM(OCCUPANT_CNT) DESC\n",
        "LIMIT 3\n"
      ],
      "metadata": {
        "id": "FowdIlygR6Gb",
        "colab": {
          "base_uri": "https://localhost:8080/",
          "height": 138
        },
        "outputId": "5e4dd963-b2af-4f4a-a6ee-5dab753acbc2"
      },
      "execution_count": 11,
      "outputs": [
        {
          "output_type": "stream",
          "name": "stdout",
          "text": [
            " * sqlite://\n",
            "Done.\n"
          ]
        },
        {
          "output_type": "execute_result",
          "data": {
            "text/html": [
              "<table>\n",
              "    <thead>\n",
              "        <tr>\n",
              "            <th>MAKE</th>\n",
              "            <th>SUM(OCCUPANT_CNT)</th>\n",
              "        </tr>\n",
              "    </thead>\n",
              "    <tbody>\n",
              "        <tr>\n",
              "            <td>CHEVROLET</td>\n",
              "            <td>881.0</td>\n",
              "        </tr>\n",
              "        <tr>\n",
              "            <td>FORD</td>\n",
              "            <td>829.0</td>\n",
              "        </tr>\n",
              "        <tr>\n",
              "            <td>NISSAN</td>\n",
              "            <td>708.0</td>\n",
              "        </tr>\n",
              "    </tbody>\n",
              "</table>"
            ],
            "text/plain": [
              "[('CHEVROLET', 881.0), ('FORD', 829.0), ('NISSAN', 708.0)]"
            ]
          },
          "metadata": {},
          "execution_count": 11
        }
      ]
    },
    {
      "cell_type": "code",
      "source": [
        "#7.Sort the number of passengers in descending order, by travel direction taking into account travel direction. Return travel direction and no. of passengers.\n",
        "\n",
        "#Ans:\n",
        "%%sql\n",
        "SELECT TRAVEL_DIRECTION, SUM(NUM_PASSENGERS) FROM T_accidents\n",
        "GROUP BY TRAVEL_DIRECTION\n",
        "ORDER BY SUM(NUM_PASSENGERS) DESC\n"
      ],
      "metadata": {
        "id": "fqllxdBGWnmD"
      },
      "execution_count": null,
      "outputs": []
    },
    {
      "cell_type": "code",
      "source": [
        "#8. Select the top 5 vehicle models involved in the accident with no defect, order them by make, and show their maneuver\n",
        "#Ans:"
      ],
      "metadata": {
        "colab": {
          "base_uri": "https://localhost:8080/",
          "height": 97
        },
        "id": "knn0Z2W-ZF5C",
        "outputId": "d53911ef-0eac-4e2c-d106-8265f53467c6"
      },
      "execution_count": null,
      "outputs": [
        {
          "output_type": "stream",
          "name": "stdout",
          "text": [
            " * sqlite://\n",
            "Done.\n"
          ]
        },
        {
          "output_type": "execute_result",
          "data": {
            "text/html": [
              "<table>\n",
              "    <thead>\n",
              "        <tr>\n",
              "            <th>MODEL</th>\n",
              "            <th>COUNT(MODEL)</th>\n",
              "            <th>COUNT(VEHICLE_DEFECT)</th>\n",
              "            <th>SUM(MANEUVER)</th>\n",
              "        </tr>\n",
              "    </thead>\n",
              "    <tbody>\n",
              "        <tr>\n",
              "            <td>EDGE</td>\n",
              "            <td>4143</td>\n",
              "            <td>4143</td>\n",
              "            <td>0.0</td>\n",
              "        </tr>\n",
              "    </tbody>\n",
              "</table>"
            ],
            "text/plain": [
              "[('EDGE', 4143, 4143, 0.0)]"
            ]
          },
          "metadata": {},
          "execution_count": 98
        }
      ]
    },
    {
      "cell_type": "code",
      "source": [
        "%%sql\n",
        "SELECT MODEL,COUNT(MODEL), MAKE, MANEUVER FROM T_accidents\n",
        "WHERE VEHICLE_DEFECT = 'NONE'\n",
        "GROUP BY MODEL, MANEUVER\n",
        "ORDER BY COUNT(MAKE) DESC\n",
        "LIMIT 20"
      ],
      "metadata": {
        "colab": {
          "base_uri": "https://localhost:8080/",
          "height": 502
        },
        "id": "T2NK2YpIb9Lx",
        "outputId": "d706c83d-5ddc-4a5e-aafa-3a12bb216845"
      },
      "execution_count": null,
      "outputs": [
        {
          "output_type": "stream",
          "name": "stdout",
          "text": [
            " * sqlite://\n",
            "Done.\n"
          ]
        },
        {
          "output_type": "execute_result",
          "data": {
            "text/html": [
              "<table>\n",
              "    <thead>\n",
              "        <tr>\n",
              "            <th>MODEL</th>\n",
              "            <th>COUNT(MODEL)</th>\n",
              "            <th>MAKE</th>\n",
              "            <th>MANEUVER</th>\n",
              "        </tr>\n",
              "    </thead>\n",
              "    <tbody>\n",
              "        <tr>\n",
              "            <td>UNKNOWN</td>\n",
              "            <td>159</td>\n",
              "            <td>CHEVROLET</td>\n",
              "            <td>STRAIGHT AHEAD</td>\n",
              "        </tr>\n",
              "        <tr>\n",
              "            <td>CAMRY</td>\n",
              "            <td>73</td>\n",
              "            <td>TOYOTA</td>\n",
              "            <td>STRAIGHT AHEAD</td>\n",
              "        </tr>\n",
              "        <tr>\n",
              "            <td>NISSAN ALTIMA</td>\n",
              "            <td>54</td>\n",
              "            <td>NISSAN</td>\n",
              "            <td>STRAIGHT AHEAD</td>\n",
              "        </tr>\n",
              "        <tr>\n",
              "            <td>UNKNOWN</td>\n",
              "            <td>53</td>\n",
              "            <td>INFINITI</td>\n",
              "            <td>PARKED</td>\n",
              "        </tr>\n",
              "        <tr>\n",
              "            <td>OTHER (EXPLAIN IN NARRATIVE)</td>\n",
              "            <td>51</td>\n",
              "            <td>FREIGHTLINER CORPORATION</td>\n",
              "            <td>STRAIGHT AHEAD</td>\n",
              "        </tr>\n",
              "        <tr>\n",
              "            <td>COROLLA</td>\n",
              "            <td>44</td>\n",
              "            <td>TOYOTA</td>\n",
              "            <td>STRAIGHT AHEAD</td>\n",
              "        </tr>\n",
              "        <tr>\n",
              "            <td>UNKNOWN</td>\n",
              "            <td>44</td>\n",
              "            <td>MAZDA</td>\n",
              "            <td>SLOW/STOP IN TRAFFIC</td>\n",
              "        </tr>\n",
              "        <tr>\n",
              "            <td>CIVIC</td>\n",
              "            <td>43</td>\n",
              "            <td>HONDA</td>\n",
              "            <td>STRAIGHT AHEAD</td>\n",
              "        </tr>\n",
              "        <tr>\n",
              "            <td>ELANTRA</td>\n",
              "            <td>37</td>\n",
              "            <td>HYUNDAI</td>\n",
              "            <td>STRAIGHT AHEAD</td>\n",
              "        </tr>\n",
              "        <tr>\n",
              "            <td>CRUZE</td>\n",
              "            <td>32</td>\n",
              "            <td>CHEVROLET</td>\n",
              "            <td>STRAIGHT AHEAD</td>\n",
              "        </tr>\n",
              "        <tr>\n",
              "            <td>FUSION</td>\n",
              "            <td>32</td>\n",
              "            <td>FORD</td>\n",
              "            <td>STRAIGHT AHEAD</td>\n",
              "        </tr>\n",
              "        <tr>\n",
              "            <td>IMPALA</td>\n",
              "            <td>32</td>\n",
              "            <td>CHEVROLET</td>\n",
              "            <td>STRAIGHT AHEAD</td>\n",
              "        </tr>\n",
              "        <tr>\n",
              "            <td>SONATA</td>\n",
              "            <td>31</td>\n",
              "            <td>HYUNDAI</td>\n",
              "            <td>STRAIGHT AHEAD</td>\n",
              "        </tr>\n",
              "        <tr>\n",
              "            <td>ACCORD</td>\n",
              "            <td>30</td>\n",
              "            <td>HONDA</td>\n",
              "            <td>STRAIGHT AHEAD</td>\n",
              "        </tr>\n",
              "        <tr>\n",
              "            <td>MALIBU (CHEVELLE)</td>\n",
              "            <td>30</td>\n",
              "            <td>CHEVROLET</td>\n",
              "            <td>STRAIGHT AHEAD</td>\n",
              "        </tr>\n",
              "        <tr>\n",
              "            <td>EQUINOX</td>\n",
              "            <td>29</td>\n",
              "            <td>CHEVROLET</td>\n",
              "            <td>STRAIGHT AHEAD</td>\n",
              "        </tr>\n",
              "        <tr>\n",
              "            <td>ROGUE</td>\n",
              "            <td>28</td>\n",
              "            <td>NISSAN</td>\n",
              "            <td>STRAIGHT AHEAD</td>\n",
              "        </tr>\n",
              "        <tr>\n",
              "            <td>UNKNOWN</td>\n",
              "            <td>26</td>\n",
              "            <td>DODGE</td>\n",
              "            <td>TURNING LEFT</td>\n",
              "        </tr>\n",
              "        <tr>\n",
              "            <td>ESCAPE (SUV)</td>\n",
              "            <td>25</td>\n",
              "            <td>FORD</td>\n",
              "            <td>STRAIGHT AHEAD</td>\n",
              "        </tr>\n",
              "        <tr>\n",
              "            <td>CAMRY</td>\n",
              "            <td>24</td>\n",
              "            <td>TOYOTA</td>\n",
              "            <td>PARKED</td>\n",
              "        </tr>\n",
              "    </tbody>\n",
              "</table>"
            ],
            "text/plain": [
              "[('UNKNOWN', 159, 'CHEVROLET', 'STRAIGHT AHEAD'),\n",
              " ('CAMRY', 73, 'TOYOTA', 'STRAIGHT AHEAD'),\n",
              " ('NISSAN ALTIMA', 54, 'NISSAN', 'STRAIGHT AHEAD'),\n",
              " ('UNKNOWN', 53, 'INFINITI', 'PARKED'),\n",
              " ('OTHER (EXPLAIN IN NARRATIVE)', 51, 'FREIGHTLINER CORPORATION', 'STRAIGHT AHEAD'),\n",
              " ('COROLLA', 44, 'TOYOTA', 'STRAIGHT AHEAD'),\n",
              " ('UNKNOWN', 44, 'MAZDA', 'SLOW/STOP IN TRAFFIC'),\n",
              " ('CIVIC', 43, 'HONDA', 'STRAIGHT AHEAD'),\n",
              " ('ELANTRA', 37, 'HYUNDAI', 'STRAIGHT AHEAD'),\n",
              " ('CRUZE', 32, 'CHEVROLET', 'STRAIGHT AHEAD'),\n",
              " ('FUSION', 32, 'FORD', 'STRAIGHT AHEAD'),\n",
              " ('IMPALA', 32, 'CHEVROLET', 'STRAIGHT AHEAD'),\n",
              " ('SONATA', 31, 'HYUNDAI', 'STRAIGHT AHEAD'),\n",
              " ('ACCORD', 30, 'HONDA', 'STRAIGHT AHEAD'),\n",
              " ('MALIBU (CHEVELLE)', 30, 'CHEVROLET', 'STRAIGHT AHEAD'),\n",
              " ('EQUINOX', 29, 'CHEVROLET', 'STRAIGHT AHEAD'),\n",
              " ('ROGUE', 28, 'NISSAN', 'STRAIGHT AHEAD'),\n",
              " ('UNKNOWN', 26, 'DODGE', 'TURNING LEFT'),\n",
              " ('ESCAPE (SUV)', 25, 'FORD', 'STRAIGHT AHEAD'),\n",
              " ('CAMRY', 24, 'TOYOTA', 'PARKED')]"
            ]
          },
          "metadata": {},
          "execution_count": 116
        }
      ]
    },
    {
      "cell_type": "code",
      "source": [
        "#9. Which ridesharing vehicles in an accident had the most number of passengers?Return model, and the number of passengers.\n",
        "#Ans:\n",
        "%%sql\n",
        "SELECT  MODEL, SUM(NUM_PASSENGERS) FROM T_accidents\n",
        "WHERE VEHICLE_USE = 'RIDESHARE SERVICE'\n",
        "GROUP BY MODEL\n",
        "ORDER BY SUM(NUM_PASSENGERS) DESC"
      ],
      "metadata": {
        "colab": {
          "base_uri": "https://localhost:8080/",
          "height": 825
        },
        "id": "pGsIcLTcfuWk",
        "outputId": "3540817f-3783-46c7-904c-92a54555b71d"
      },
      "execution_count": 13,
      "outputs": [
        {
          "output_type": "stream",
          "name": "stdout",
          "text": [
            " * sqlite://\n",
            "Done.\n"
          ]
        },
        {
          "output_type": "execute_result",
          "data": {
            "text/html": [
              "<table>\n",
              "    <thead>\n",
              "        <tr>\n",
              "            <th>MODEL</th>\n",
              "            <th>SUM(NUM_PASSENGERS)</th>\n",
              "        </tr>\n",
              "    </thead>\n",
              "    <tbody>\n",
              "        <tr>\n",
              "            <td>CAMRY</td>\n",
              "            <td>5.0</td>\n",
              "        </tr>\n",
              "        <tr>\n",
              "            <td>UNKNOWN</td>\n",
              "            <td>5.0</td>\n",
              "        </tr>\n",
              "        <tr>\n",
              "            <td>JETTA</td>\n",
              "            <td>4.0</td>\n",
              "        </tr>\n",
              "        <tr>\n",
              "            <td>COROLLA</td>\n",
              "            <td>3.0</td>\n",
              "        </tr>\n",
              "        <tr>\n",
              "            <td>Optima</td>\n",
              "            <td>3.0</td>\n",
              "        </tr>\n",
              "        <tr>\n",
              "            <td>A4</td>\n",
              "            <td>2.0</td>\n",
              "        </tr>\n",
              "        <tr>\n",
              "            <td>MALIBU (CHEVELLE)</td>\n",
              "            <td>2.0</td>\n",
              "        </tr>\n",
              "        <tr>\n",
              "            <td>ACURA</td>\n",
              "            <td>1.0</td>\n",
              "        </tr>\n",
              "        <tr>\n",
              "            <td>CX-9</td>\n",
              "            <td>1.0</td>\n",
              "        </tr>\n",
              "        <tr>\n",
              "            <td>ELANTRA</td>\n",
              "            <td>1.0</td>\n",
              "        </tr>\n",
              "        <tr>\n",
              "            <td>FLEX</td>\n",
              "            <td>1.0</td>\n",
              "        </tr>\n",
              "        <tr>\n",
              "            <td>MKS</td>\n",
              "            <td>1.0</td>\n",
              "        </tr>\n",
              "        <tr>\n",
              "            <td>OTHER (EXPLAIN IN NARRATIVE)</td>\n",
              "            <td>1.0</td>\n",
              "        </tr>\n",
              "        <tr>\n",
              "            <td>PATRIOT</td>\n",
              "            <td>1.0</td>\n",
              "        </tr>\n",
              "        <tr>\n",
              "            <td>SOUL</td>\n",
              "            <td>1.0</td>\n",
              "        </tr>\n",
              "        <tr>\n",
              "            <td>Trail Blazer</td>\n",
              "            <td>1.0</td>\n",
              "        </tr>\n",
              "        <tr>\n",
              "            <td>VERSA</td>\n",
              "            <td>1.0</td>\n",
              "        </tr>\n",
              "        <tr>\n",
              "            <td>328i</td>\n",
              "            <td>None</td>\n",
              "        </tr>\n",
              "        <tr>\n",
              "            <td>ALTIMA</td>\n",
              "            <td>None</td>\n",
              "        </tr>\n",
              "        <tr>\n",
              "            <td>CX-3</td>\n",
              "            <td>None</td>\n",
              "        </tr>\n",
              "        <tr>\n",
              "            <td>EQUINOX</td>\n",
              "            <td>None</td>\n",
              "        </tr>\n",
              "        <tr>\n",
              "            <td>ESCAPE (SUV)</td>\n",
              "            <td>None</td>\n",
              "        </tr>\n",
              "        <tr>\n",
              "            <td>FOCUS</td>\n",
              "            <td>None</td>\n",
              "        </tr>\n",
              "        <tr>\n",
              "            <td>FUSION</td>\n",
              "            <td>None</td>\n",
              "        </tr>\n",
              "        <tr>\n",
              "            <td>Highlander(beginning vehicle year 2001)</td>\n",
              "            <td>None</td>\n",
              "        </tr>\n",
              "        <tr>\n",
              "            <td>LINCOLN PARK MOBILE HOMES, INC., SHIPSHEWNAN, IN</td>\n",
              "            <td>None</td>\n",
              "        </tr>\n",
              "        <tr>\n",
              "            <td>MDX</td>\n",
              "            <td>None</td>\n",
              "        </tr>\n",
              "        <tr>\n",
              "            <td>NISSAN ALTIMA</td>\n",
              "            <td>None</td>\n",
              "        </tr>\n",
              "        <tr>\n",
              "            <td>OPTIMA / K5</td>\n",
              "            <td>None</td>\n",
              "        </tr>\n",
              "        <tr>\n",
              "            <td>PASSAT</td>\n",
              "            <td>None</td>\n",
              "        </tr>\n",
              "        <tr>\n",
              "            <td>Prius</td>\n",
              "            <td>None</td>\n",
              "        </tr>\n",
              "        <tr>\n",
              "            <td>RANGE ROVER OF NORTH AMERICA</td>\n",
              "            <td>None</td>\n",
              "        </tr>\n",
              "        <tr>\n",
              "            <td>SE-V6</td>\n",
              "            <td>None</td>\n",
              "        </tr>\n",
              "        <tr>\n",
              "            <td>SENTRA (DATSUN AND NISSAN HAVE MERGED)</td>\n",
              "            <td>None</td>\n",
              "        </tr>\n",
              "        <tr>\n",
              "            <td>SONATA</td>\n",
              "            <td>None</td>\n",
              "        </tr>\n",
              "        <tr>\n",
              "            <td>Sportage (sport utility)</td>\n",
              "            <td>None</td>\n",
              "        </tr>\n",
              "    </tbody>\n",
              "</table>"
            ],
            "text/plain": [
              "[('CAMRY', 5.0),\n",
              " ('UNKNOWN', 5.0),\n",
              " ('JETTA', 4.0),\n",
              " ('COROLLA', 3.0),\n",
              " ('Optima', 3.0),\n",
              " ('A4', 2.0),\n",
              " ('MALIBU (CHEVELLE)', 2.0),\n",
              " ('ACURA', 1.0),\n",
              " ('CX-9', 1.0),\n",
              " ('ELANTRA', 1.0),\n",
              " ('FLEX', 1.0),\n",
              " ('MKS', 1.0),\n",
              " ('OTHER (EXPLAIN IN NARRATIVE)', 1.0),\n",
              " ('PATRIOT', 1.0),\n",
              " ('SOUL', 1.0),\n",
              " ('Trail Blazer', 1.0),\n",
              " ('VERSA', 1.0),\n",
              " ('328i', None),\n",
              " ('ALTIMA', None),\n",
              " ('CX-3', None),\n",
              " ('EQUINOX', None),\n",
              " ('ESCAPE (SUV)', None),\n",
              " ('FOCUS', None),\n",
              " ('FUSION', None),\n",
              " ('Highlander(beginning vehicle year 2001)', None),\n",
              " ('LINCOLN PARK MOBILE HOMES, INC., SHIPSHEWNAN, IN', None),\n",
              " ('MDX', None),\n",
              " ('NISSAN ALTIMA', None),\n",
              " ('OPTIMA / K5', None),\n",
              " ('PASSAT', None),\n",
              " ('Prius', None),\n",
              " ('RANGE ROVER OF NORTH AMERICA', None),\n",
              " ('SE-V6', None),\n",
              " ('SENTRA (DATSUN AND NISSAN HAVE MERGED)', None),\n",
              " ('SONATA', None),\n",
              " ('Sportage (sport utility)', None)]"
            ]
          },
          "metadata": {},
          "execution_count": 13
        }
      ]
    }
  ]
}